{
 "cells": [
  {
   "cell_type": "code",
   "execution_count": 1,
   "metadata": {},
   "outputs": [],
   "source": [
    "%load_ext autoreload\n",
    "%autoreload 2"
   ]
  },
  {
   "cell_type": "code",
   "execution_count": 2,
   "metadata": {},
   "outputs": [],
   "source": [
    "from TSP_utils import TSP_solver, TSP_plotter, TSP_generator, TSP_loader\n",
    "import numpy as np\n",
    "import networkx as nx\n",
    "import tqdm\n",
    "import tsplib95\n",
    "import time"
   ]
  },
  {
   "cell_type": "code",
   "execution_count": 3,
   "metadata": {},
   "outputs": [],
   "source": [
    "solver = TSP_solver()"
   ]
  },
  {
   "cell_type": "code",
   "execution_count": 5,
   "metadata": {},
   "outputs": [
    {
     "name": "stdout",
     "output_type": "stream",
     "text": [
      "berlin52.tsp\n",
      "eil76.tsp\n",
      "kroA100.tsp\n",
      "kroB100.tsp\n",
      "kroC100.tsp\n",
      "kroD100.tsp\n",
      "pr76.tsp\n",
      "rat99.tsp\n",
      "st70.tsp\n"
     ]
    }
   ],
   "source": [
    "data_dir = 'test_sets/real_samples/'\n",
    "solver.add_lengths_and_sols(data_dir=data_dir, scale_factor=1)"
   ]
  }
 ],
 "metadata": {
  "interpreter": {
   "hash": "f238a507ee0ec00f70c3b410e243ccbc0c27fa57524eeef78c9845b71a0731fe"
  },
  "kernelspec": {
   "display_name": "Python 3.9.4 64-bit ('solenv': conda)",
   "name": "python3"
  },
  "language_info": {
   "codemirror_mode": {
    "name": "ipython",
    "version": 3
   },
   "file_extension": ".py",
   "mimetype": "text/x-python",
   "name": "python",
   "nbconvert_exporter": "python",
   "pygments_lexer": "ipython3",
   "version": "3.9.4"
  },
  "orig_nbformat": 4
 },
 "nbformat": 4,
 "nbformat_minor": 2
}
