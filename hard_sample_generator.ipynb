{
 "metadata": {
  "language_info": {
   "codemirror_mode": {
    "name": "ipython",
    "version": 3
   },
   "file_extension": ".py",
   "mimetype": "text/x-python",
   "name": "python",
   "nbconvert_exporter": "python",
   "pygments_lexer": "ipython3",
   "version": "3.8.5"
  },
  "orig_nbformat": 2,
  "kernelspec": {
   "name": "python385jvsc74a57bd098b0a9b7b4eaaa670588a142fd0a9b87eaafe866f1db4228be72b4211d12040f",
   "display_name": "Python 3.7.3 64-bit ('base': conda)"
  }
 },
 "nbformat": 4,
 "nbformat_minor": 2,
 "cells": [
  {
   "cell_type": "code",
   "execution_count": 1,
   "metadata": {},
   "outputs": [],
   "source": [
    "%load_ext autoreload\n",
    "%autoreload 2"
   ]
  },
  {
   "cell_type": "code",
   "execution_count": 2,
   "metadata": {},
   "outputs": [],
   "source": [
    "import numpy as np\n",
    "import pandas as pd\n",
    "import networkx as nx\n",
    "import tqdm\n",
    "import re\n",
    "import os\n",
    "import tsplib95\n",
    "import graph_generator\n",
    "from concorde.tsp import TSPSolver\n",
    "from concorde.tests.data_utils import get_dataset_path\n",
    "from scipy.spatial import ConvexHull"
   ]
  },
  {
   "cell_type": "code",
   "execution_count": 3,
   "metadata": {},
   "outputs": [],
   "source": [
    "NUM_MIN = 15\n",
    "NUM_MAX = 20\n",
    "num_graphs = 1000\n",
    "graph_list = []\n",
    "for i in range(0, num_graphs):\n",
    "    graph_list.append(graph_generator.gen_graph(g_type='tsp_2d', num_min=NUM_MIN, num_max=NUM_MAX))"
   ]
  },
  {
   "cell_type": "code",
   "execution_count": 4,
   "metadata": {},
   "outputs": [],
   "source": [
    "# save graphs in directory\n",
    "def save_nx_as_tsp(graph_list, save_path):\n",
    "    for k, graph in enumerate(graph_list):\n",
    "        problem = tsplib95.models.StandardProblem()\n",
    "        problem.name = 'TSP_Problem_{}'.format(k)\n",
    "        problem.type = 'TSP'\n",
    "        problem.dimension = graph.number_of_nodes()\n",
    "        problem.edge_weight_type = 'EUC_2D'\n",
    "        # problem.node_coord_type = 'TWOD_COORDS'\n",
    "        problem.node_coords = {'{}'.format(node[0]): list(np.round(10000*node[1]['coord'], 0)) for node in graph.nodes.items()}\n",
    "        # save_path = 'valid_sets/synthetic_nrange_10_20_200/TSP_Problem_{}.tsp'.format(k)\n",
    "        file_path = save_path + 'TSP_Problem_{}.tsp'.format(k)\n",
    "        if not os.path.exists(save_path):\n",
    "            os.mkdir(save_path)\n",
    "        problem.save(file_path)\n",
    "        with open(file_path, 'a') as f:\n",
    "            f.write('\\n')"
   ]
  },
  {
   "cell_type": "code",
   "execution_count": 8,
   "metadata": {},
   "outputs": [],
   "source": [
    "# solve each TSP problem and calc convex hull\n",
    "# data_dir = 'test_sets/synthetic_nrange_10_20_1000/'\n",
    "data_dir = 'temp/'\n",
    "save_nx_as_tsp(graph_list=graph_list, save_path=data_dir)"
   ]
  },
  {
   "cell_type": "code",
   "execution_count": 9,
   "metadata": {},
   "outputs": [],
   "source": [
    "\n",
    "def calc_tour_length(data_dir): \n",
    "    atoi = lambda text : int(text) if text.isdigit() else text\n",
    "    natural_keys = lambda text : [atoi(c) for c in re.split('(\\d+)', text)]\n",
    "    fnames = os.listdir(data_dir)\n",
    "    fnames.sort(key=natural_keys)\n",
    "    lengths = []\n",
    "    solutions = []\n",
    "    for fname in fnames:\n",
    "        solver = TSPSolver.from_tspfile(data_dir + fname)\n",
    "        solution = solver.solve()\n",
    "        lengths.append(solution.optimal_value/(10000*solution.tour.shape[0]))\n",
    "        # solutions.append(solution.tour)\n",
    "    return lengths"
   ]
  },
  {
   "cell_type": "code",
   "execution_count": 10,
   "metadata": {},
   "outputs": [],
   "source": [
    "tour_lengths = calc_tour_length(data_dir=data_dir)"
   ]
  },
  {
   "cell_type": "code",
   "execution_count": 15,
   "metadata": {},
   "outputs": [],
   "source": [
    "def load_tsp_as_nx(data_dir):\n",
    "    atoi = lambda text : int(text) if text.isdigit() else text\n",
    "    natural_keys = lambda text : [atoi(c) for c in re.split('(\\d+)', text)]\n",
    "    fnames = os.listdir(data_dir)\n",
    "    fnames.sort(key=natural_keys)\n",
    "    graph_list = []\n",
    "    for fname in fnames:\n",
    "        if not 'tsp' in fname:\n",
    "            continue\n",
    "        try:\n",
    "            problem = tsplib95.load(data_dir + fname)\n",
    "            g = problem.get_graph()\n",
    "            # remove edges from nodes to itself\n",
    "            ebunch=[(k,k) for k in range(len(g.nodes))]\n",
    "            g.remove_edges_from(ebunch)\n",
    "            for node in range(len(g.nodes)):\n",
    "                g.nodes[node]['coord'] = np.array(g.nodes[node]['coord']) * 0.0001\n",
    "            for edge in g.edges:\n",
    "                g.edges[edge]['weight'] = g.edges[edge]['weight'] * 0.0001\n",
    "            graph_list.append(g)\n",
    "        except:\n",
    "            print(\"Error!\")\n",
    "    return graph_list \n"
   ]
  },
  {
   "cell_type": "code",
   "execution_count": 16,
   "metadata": {},
   "outputs": [],
   "source": [
    "graph_list = load_tsp_as_nx(data_dir=data_dir)"
   ]
  },
  {
   "cell_type": "code",
   "execution_count": 17,
   "metadata": {},
   "outputs": [
    {
     "output_type": "execute_result",
     "data": {
      "text/plain": [
       "NodeView((0, 1, 2, 3, 4, 5, 6, 7, 8, 9, 10, 11, 12, 13, 14, 15))"
      ]
     },
     "metadata": {},
     "execution_count": 17
    }
   ],
   "source": [
    "graph_list[0].nodes"
   ]
  }
 ]
}